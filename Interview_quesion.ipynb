{
 "cells": [
  {
   "cell_type": "code",
   "execution_count": 37,
   "id": "e6f403a3-d6e8-4d38-b4aa-72f87bde6749",
   "metadata": {},
   "outputs": [
    {
     "name": "stdout",
     "output_type": "stream",
     "text": [
      "olleh\n"
     ]
    }
   ],
   "source": [
    "# 01 Reverse a String\n",
    "def reverse_string(s):\n",
    "    result = ''\n",
    "    for char in s:\n",
    "        result = char + result\n",
    "    return result\n",
    "\n",
    "print(reverse_string(\"hello\")) "
   ]
  },
  {
   "cell_type": "code",
   "execution_count": 38,
   "id": "c358cd10-135b-453e-9dde-caa8e61c13f0",
   "metadata": {},
   "outputs": [
    {
     "name": "stdout",
     "output_type": "stream",
     "text": [
      "True\n"
     ]
    }
   ],
   "source": [
    "# 02 Check for Palindrome\n",
    "def is_palindrome(s):\n",
    "    rev = ''\n",
    "    for char in s:\n",
    "        rev = char + rev\n",
    "    return s == rev\n",
    "\n",
    "print(is_palindrome(\"madam\"))  "
   ]
  },
  {
   "cell_type": "code",
   "execution_count": 39,
   "id": "03ac7c3c-8895-439f-a37c-cc681f70f6f5",
   "metadata": {},
   "outputs": [
    {
     "name": "stdout",
     "output_type": "stream",
     "text": [
      "120\n"
     ]
    }
   ],
   "source": [
    "# 03 Factorial using Recursion\n",
    "def factorial(n):\n",
    "    if n == 0:\n",
    "        return 1\n",
    "    else:\n",
    "        return n * factorial(n - 1)\n",
    "\n",
    "print(factorial(5)) "
   ]
  },
  {
   "cell_type": "code",
   "execution_count": 40,
   "id": "72792048-7642-4672-97ad-5a6054b90348",
   "metadata": {},
   "outputs": [
    {
     "name": "stdout",
     "output_type": "stream",
     "text": [
      "0 1 1 2 3 \n"
     ]
    }
   ],
   "source": [
    "# 04 Fibonacci Series\n",
    "def fibonacci(n):\n",
    "    a, b = 0, 1\n",
    "    for i in range(n):\n",
    "        print(a, end=' ')\n",
    "        c = a + b\n",
    "        a = b\n",
    "        b = c\n",
    "\n",
    "fibonacci(5) \n",
    "print()"
   ]
  },
  {
   "cell_type": "code",
   "execution_count": 41,
   "id": "6d549da0-d4cc-4a9b-848d-a2160d715bf1",
   "metadata": {},
   "outputs": [
    {
     "name": "stdout",
     "output_type": "stream",
     "text": [
      "True\n"
     ]
    }
   ],
   "source": [
    "# 05 Check if Number is Prime\n",
    "def is_prime(n):\n",
    "    if n <= 1:\n",
    "        return False\n",
    "    for i in range(2, n):\n",
    "        if n % i == 0:\n",
    "            return False\n",
    "    return True\n",
    "\n",
    "print(is_prime(7))"
   ]
  },
  {
   "cell_type": "code",
   "execution_count": 42,
   "id": "8f1de396-2b15-42d2-841f-e70315ec4590",
   "metadata": {},
   "outputs": [
    {
     "name": "stdout",
     "output_type": "stream",
     "text": [
      "12\n"
     ]
    }
   ],
   "source": [
    "# 06 GCD of Two Numbers\n",
    "def gcd(a, b):\n",
    "    while b != 0:\n",
    "        temp = b\n",
    "        b = a % b\n",
    "        a = temp\n",
    "    return a\n",
    "\n",
    "print(gcd(36, 60))\n"
   ]
  },
  {
   "cell_type": "code",
   "execution_count": 43,
   "id": "1c882184-9aa5-4fc2-98de-038442d03cd8",
   "metadata": {},
   "outputs": [
    {
     "name": "stdout",
     "output_type": "stream",
     "text": [
      "4\n"
     ]
    }
   ],
   "source": [
    "# 07 Count Vowels in a String\n",
    "def count_vowels(s):\n",
    "    count = 0\n",
    "    for char in s:\n",
    "        if char.lower() in 'aeiou':\n",
    "            count += 1\n",
    "    return count\n",
    "\n",
    "print(count_vowels(\"OpenAI\"))\n"
   ]
  },
  {
   "cell_type": "code",
   "execution_count": 44,
   "id": "9c380829-4570-4092-9e52-25b70caec8a8",
   "metadata": {},
   "outputs": [
    {
     "name": "stdout",
     "output_type": "stream",
     "text": [
      "[2, 4]\n"
     ]
    }
   ],
   "source": [
    "# 08 Find Duplicates in List\n",
    "def find_duplicates(lst):\n",
    "    duplicates = []\n",
    "    for i in lst:\n",
    "        if lst.count(i) > 1 and i not in duplicates:\n",
    "            duplicates.append(i)\n",
    "    return duplicates\n",
    "\n",
    "print(find_duplicates([1, 2, 2, 3, 4, 4]))\n"
   ]
  },
  {
   "cell_type": "code",
   "execution_count": 45,
   "id": "fb612f07-fcae-4f11-aec6-abf830d46599",
   "metadata": {},
   "outputs": [
    {
     "name": "stdout",
     "output_type": "stream",
     "text": [
      "True\n"
     ]
    }
   ],
   "source": [
    "# 09 Check if Two Strings are Anagrams\n",
    "def are_anagrams(s1, s2):\n",
    "    if len(s1) != len(s2):\n",
    "        return False\n",
    "    for char in s1:\n",
    "        if s1.count(char) != s2.count(char):\n",
    "            return False\n",
    "    return True\n",
    "\n",
    "print(are_anagrams(\"listen\", \"silent\"))\n"
   ]
  },
  {
   "cell_type": "code",
   "execution_count": 46,
   "id": "113c746b-ee98-442c-90f0-5db00a5813fe",
   "metadata": {},
   "outputs": [
    {
     "name": "stdout",
     "output_type": "stream",
     "text": [
      "[1, 2, 3, 4, 5, 6]\n"
     ]
    }
   ],
   "source": [
    "# 10 Merge Two Sorted Lists\n",
    "def merge_sorted_lists(l1, l2):\n",
    "    merged = []\n",
    "    i = j = 0\n",
    "    while i < len(l1) and j < len(l2):\n",
    "        if l1[i] < l2[j]:\n",
    "            merged.append(l1[i])\n",
    "            i += 1\n",
    "        else:\n",
    "            merged.append(l2[j])\n",
    "            j += 1\n",
    "    while i < len(l1):\n",
    "        merged.append(l1[i])\n",
    "        i += 1\n",
    "    while j < len(l2):\n",
    "        merged.append(l2[j])\n",
    "        j += 1\n",
    "    return merged\n",
    "\n",
    "print(merge_sorted_lists([1, 3, 5], [2, 4, 6]))\n"
   ]
  },
  {
   "cell_type": "code",
   "execution_count": 47,
   "id": "186cb90e-68f1-471d-aaf4-4fc445f3ef8c",
   "metadata": {},
   "outputs": [
    {
     "name": "stdout",
     "output_type": "stream",
     "text": [
      "3\n"
     ]
    }
   ],
   "source": [
    "# 11 Find Missing Number in Range 1 to n\n",
    "def find_missing_number(lst, n):\n",
    "    total = 0\n",
    "    for i in range(1, n+1):\n",
    "        total += i\n",
    "    actual_sum = 0\n",
    "    for num in lst:\n",
    "        actual_sum += num\n",
    "    return total - actual_sum\n",
    "\n",
    "print(find_missing_number([1, 2, 4, 5], 5))\n"
   ]
  },
  {
   "cell_type": "code",
   "execution_count": 48,
   "id": "c48fb96a-99a1-4bee-8e18-a8fd876a67e0",
   "metadata": {},
   "outputs": [
    {
     "name": "stdout",
     "output_type": "stream",
     "text": [
      "True\n"
     ]
    }
   ],
   "source": [
    "# 12 Check if Number is Armstrong\n",
    "def is_armstrong(n):\n",
    "    digits = str(n)\n",
    "    total = 0\n",
    "    for d in digits:\n",
    "        total += int(d) ** len(digits)\n",
    "    return total == n\n",
    "\n",
    "print(is_armstrong(153))\n"
   ]
  },
  {
   "cell_type": "code",
   "execution_count": 49,
   "id": "8ac20c80-68f9-4abf-af9e-515ef8952e92",
   "metadata": {},
   "outputs": [
    {
     "name": "stdout",
     "output_type": "stream",
     "text": [
      "True\n"
     ]
    }
   ],
   "source": [
    "# 13 Check if String is Pangram\n",
    "def is_pangram(s):\n",
    "    s = s.lower()\n",
    "    for char in 'abcdefghijklmnopqrstuvwxyz':\n",
    "        if char not in s:\n",
    "            return False\n",
    "    return True\n",
    "\n",
    "print(is_pangram(\"The quick brown fox jumps over a lazy dog\"))\n"
   ]
  },
  {
   "cell_type": "code",
   "execution_count": 50,
   "id": "d5138dc5-8ee3-43a8-9cdb-c9904eeb5a64",
   "metadata": {},
   "outputs": [
    {
     "name": "stdout",
     "output_type": "stream",
     "text": [
      "[1, 2, 3]\n"
     ]
    }
   ],
   "source": [
    "# 14 Remove Duplicates from List\n",
    "def remove_duplicates(lst):\n",
    "    result = []\n",
    "    for i in lst:\n",
    "        if i not in result:\n",
    "            result.append(i)\n",
    "    return result\n",
    "\n",
    "print(remove_duplicates([1, 2, 2, 3, 1]))\n"
   ]
  },
  {
   "cell_type": "code",
   "execution_count": 51,
   "id": "3f09e6b4-0b2b-4b24-b879-9ec83b10f710",
   "metadata": {},
   "outputs": [
    {
     "name": "stdout",
     "output_type": "stream",
     "text": [
      "45\n"
     ]
    }
   ],
   "source": [
    "# 15 Second Largest Number\n",
    "def second_largest(lst):\n",
    "    largest = second = float('-inf')\n",
    "    for num in lst:\n",
    "        if num > largest:\n",
    "            second = largest\n",
    "            largest = num\n",
    "        elif num > second and num != largest:\n",
    "            second = num\n",
    "    return second\n",
    "\n",
    "print(second_largest([10, 20, 4, 45, 99]))\n"
   ]
  },
  {
   "cell_type": "code",
   "execution_count": 52,
   "id": "00b41475-3454-4ab3-a35b-4e3d12476e31",
   "metadata": {},
   "outputs": [
    {
     "name": "stdout",
     "output_type": "stream",
     "text": [
      "{'a': 2, 'b': 2, 'c': 1}\n"
     ]
    }
   ],
   "source": [
    "# 16 Count Occurrences in List\n",
    "def count_occurrences(lst):\n",
    "    counts = {}\n",
    "    for i in lst:\n",
    "        if i in counts:\n",
    "            counts[i] += 1\n",
    "        else:\n",
    "            counts[i] = 1\n",
    "    return counts\n",
    "\n",
    "print(count_occurrences(['a', 'b', 'a', 'c', 'b']))\n"
   ]
  },
  {
   "cell_type": "code",
   "execution_count": 53,
   "id": "0e180f8c-4e88-47f9-b09d-993565e9f4f8",
   "metadata": {},
   "outputs": [
    {
     "name": "stdout",
     "output_type": "stream",
     "text": [
      "[[1, 3], [2, 4]]\n"
     ]
    }
   ],
   "source": [
    "# 17 Transpose Matrix\n",
    "def transpose(matrix):\n",
    "    result = []\n",
    "    for i in range(len(matrix[0])):\n",
    "        row = []\n",
    "        for j in range(len(matrix)):\n",
    "            row.append(matrix[j][i])\n",
    "        result.append(row)\n",
    "    return result\n",
    "\n",
    "print(transpose([[1, 2], [3, 4]]))\n"
   ]
  },
  {
   "cell_type": "code",
   "execution_count": 54,
   "id": "3b301641-db91-40ff-ad89-2b100bc7f787",
   "metadata": {},
   "outputs": [
    {
     "name": "stdout",
     "output_type": "stream",
     "text": [
      "2\n"
     ]
    }
   ],
   "source": [
    "# 18 Linear Search\n",
    "def linear_search(lst, x):\n",
    "    for i in range(len(lst)):\n",
    "        if lst[i] == x:\n",
    "            return i\n",
    "    return -1\n",
    "\n",
    "print(linear_search([10, 20, 30, 40], 30))\n"
   ]
  },
  {
   "cell_type": "code",
   "execution_count": 55,
   "id": "ab15ef72-0ab0-4826-b042-fd4533ad5777",
   "metadata": {},
   "outputs": [
    {
     "name": "stdout",
     "output_type": "stream",
     "text": [
      "3\n"
     ]
    }
   ],
   "source": [
    "# 19 Binary Search\n",
    "def binary_search(lst, x):\n",
    "    low = 0\n",
    "    high = len(lst) - 1\n",
    "    while low <= high:\n",
    "        mid = (low + high) // 2\n",
    "        if lst[mid] == x:\n",
    "            return mid\n",
    "        elif lst[mid] < x:\n",
    "            low = mid + 1\n",
    "        else:\n",
    "            high = mid - 1\n",
    "    return -1\n",
    "\n",
    "print(binary_search([1, 2, 3, 4, 5], 4))\n"
   ]
  },
  {
   "cell_type": "code",
   "execution_count": 56,
   "id": "e1eb7de6-ecbe-4ff3-968b-31ac3207bb62",
   "metadata": {},
   "outputs": [
    {
     "name": "stdout",
     "output_type": "stream",
     "text": [
      "[2, 3]\n"
     ]
    }
   ],
   "source": [
    "# 20 Intersection of Lists\n",
    "def intersection(l1, l2):\n",
    "    result = []\n",
    "    for i in l1:\n",
    "        if i in l2 and i not in result:\n",
    "            result.append(i)\n",
    "    return result\n",
    "\n",
    "print(intersection([1, 2, 3], [2, 3, 4]))\n"
   ]
  },
  {
   "cell_type": "code",
   "execution_count": 57,
   "id": "5e5c61e4-f370-452e-aa11-a38adb37ddcc",
   "metadata": {},
   "outputs": [
    {
     "name": "stdout",
     "output_type": "stream",
     "text": [
      "[1, 2, 3, 4, 5]\n"
     ]
    }
   ],
   "source": [
    "# 21 Flatten Nested List\n",
    "def flatten(lst):\n",
    "    flat = []\n",
    "    for i in lst:\n",
    "        if isinstance(i, list):\n",
    "            for j in i:\n",
    "                flat.append(j)\n",
    "        else:\n",
    "            flat.append(i)\n",
    "    return flat\n",
    "\n",
    "print(flatten([[1, 2], 3, [4, 5]]))\n"
   ]
  },
  {
   "cell_type": "code",
   "execution_count": 58,
   "id": "50651315-17b3-43c7-8aa5-b067d26fabdf",
   "metadata": {},
   "outputs": [
    {
     "name": "stdout",
     "output_type": "stream",
     "text": [
      "[153, 370, 371, 407]\n"
     ]
    }
   ],
   "source": [
    "# 22 Armstrong Numbers in Range\n",
    "def armstrong_range(start, end):\n",
    "    result = []\n",
    "    for num in range(start, end):\n",
    "        total = 0\n",
    "        digits = str(num)\n",
    "        for d in digits:\n",
    "            total += int(d) ** len(digits)\n",
    "        if total == num:\n",
    "            result.append(num)\n",
    "    return result\n",
    "\n",
    "print(armstrong_range(100, 500))\n"
   ]
  },
  {
   "cell_type": "code",
   "execution_count": 59,
   "id": "1fc0af97-af38-402c-ac9b-7bf813724fdc",
   "metadata": {},
   "outputs": [
    {
     "name": "stdout",
     "output_type": "stream",
     "text": [
      "4\n"
     ]
    }
   ],
   "source": [
    "# 23 Count Words in String\n",
    "def count_words(s):\n",
    "    count = 1\n",
    "    for i in s:\n",
    "        if i == ' ':\n",
    "            count += 1\n",
    "    return count\n",
    "\n",
    "print(count_words(\"Hello world from Python\"))\n"
   ]
  },
  {
   "cell_type": "code",
   "execution_count": 60,
   "id": "30af62c2-58df-4d2a-9cdb-1b2b833c98d1",
   "metadata": {},
   "outputs": [
    {
     "name": "stdout",
     "output_type": "stream",
     "text": [
      "a3b2c2\n"
     ]
    }
   ],
   "source": [
    "# 24 String Compression (a3b2c2)\n",
    "def compress_string(s):\n",
    "    result = ''\n",
    "    i = 0\n",
    "    while i < len(s):\n",
    "        count = 1\n",
    "        while i + 1 < len(s) and s[i] == s[i+1]:\n",
    "            count += 1\n",
    "            i += 1\n",
    "        result += s[i] + str(count)\n",
    "        i += 1\n",
    "    return result\n",
    "\n",
    "print(compress_string(\"aaabbcc\"))\n"
   ]
  },
  {
   "cell_type": "code",
   "execution_count": 61,
   "id": "a10b37f5-e2e7-4360-b5ed-647c895a5e93",
   "metadata": {},
   "outputs": [
    {
     "name": "stdout",
     "output_type": "stream",
     "text": [
      "[[1], [1, 1], [1, 2, 1], [1, 3, 3, 1], [1, 4, 6, 4, 1]]\n"
     ]
    }
   ],
   "source": [
    "# 25 Pascal's Triangle\n",
    "def pascals_triangle(n):\n",
    "    triangle = []\n",
    "    for i in range(n):\n",
    "        row = [1] * (i + 1)\n",
    "        for j in range(1, i):\n",
    "            row[j] = triangle[i-1][j-1] + triangle[i-1][j]\n",
    "        triangle.append(row)\n",
    "    return triangle\n",
    "\n",
    "print(pascals_triangle(5))\n"
   ]
  },
  {
   "cell_type": "code",
   "execution_count": 62,
   "id": "11138a5d-31e8-45ad-845e-bbfbcace24b2",
   "metadata": {},
   "outputs": [
    {
     "name": "stdout",
     "output_type": "stream",
     "text": [
      "3\n"
     ]
    }
   ],
   "source": [
    "# 26 Majority Element\n",
    "def majority_element(lst):\n",
    "    for i in lst:\n",
    "        if lst.count(i) > len(lst) // 2:\n",
    "            return i\n",
    "    return None\n",
    "\n",
    "print(majority_element([3, 3, 4, 2, 3, 3, 5]))\n"
   ]
  },
  {
   "cell_type": "code",
   "execution_count": 63,
   "id": "6176ea18-6a16-4a78-911b-4649d1db3585",
   "metadata": {},
   "outputs": [
    {
     "name": "stdout",
     "output_type": "stream",
     "text": [
      "[1, 3, 12, 0, 0]\n"
     ]
    }
   ],
   "source": [
    "# 27 Move Zeros to End\n",
    "def move_zeros(lst):\n",
    "    result = []\n",
    "    zero_count = 0\n",
    "    for i in lst:\n",
    "        if i == 0:\n",
    "            zero_count += 1\n",
    "        else:\n",
    "            result.append(i)\n",
    "    result += [0] * zero_count\n",
    "    return result\n",
    "\n",
    "print(move_zeros([0, 1, 0, 3, 12]))\n"
   ]
  },
  {
   "cell_type": "code",
   "execution_count": 64,
   "id": "21bfe7ee-1877-4857-9bb0-dbefedc9bb0a",
   "metadata": {},
   "outputs": [
    {
     "name": "stdout",
     "output_type": "stream",
     "text": [
      "20\n",
      "False\n"
     ]
    }
   ],
   "source": [
    "# 28 Stack using List\n",
    "class Stack:\n",
    "    def __init__(self):\n",
    "        self.stack = []\n",
    "\n",
    "    def push(self, val):\n",
    "        self.stack.append(val)\n",
    "\n",
    "    def pop(self):\n",
    "        if not self.is_empty():\n",
    "            return self.stack.pop()\n",
    "\n",
    "    def is_empty(self):\n",
    "        return len(self.stack) == 0\n",
    "\n",
    "s = Stack()\n",
    "s.push(10)\n",
    "s.push(20)\n",
    "print(s.pop())\n",
    "print(s.is_empty())\n"
   ]
  },
  {
   "cell_type": "code",
   "execution_count": 65,
   "id": "bac36408-c1ed-4fd7-ba09-597d7202cf97",
   "metadata": {},
   "outputs": [
    {
     "name": "stdout",
     "output_type": "stream",
     "text": [
      "[4, 5, 1, 2, 3]\n"
     ]
    }
   ],
   "source": [
    "# 29 Rotate List by k\n",
    "def rotate_list(lst, k):\n",
    "    result = []\n",
    "    n = len(lst)\n",
    "    for i in range(n):\n",
    "        result.append(lst[(i - k) % n])\n",
    "    return result\n",
    "\n",
    "print(rotate_list([1, 2, 3, 4, 5], 2))\n"
   ]
  },
  {
   "cell_type": "code",
   "execution_count": 66,
   "id": "b0a0d36a-5274-4e0a-8af3-04edf2701374",
   "metadata": {},
   "outputs": [
    {
     "name": "stdout",
     "output_type": "stream",
     "text": [
      "True\n",
      "False\n"
     ]
    }
   ],
   "source": [
    "# 30 Check if List is Sorted\n",
    "def is_sorted(lst):\n",
    "    for i in range(len(lst) - 1):\n",
    "        if lst[i] > lst[i+1]:\n",
    "            return False\n",
    "    return True\n",
    "\n",
    "print(is_sorted([1, 2, 3, 4]))\n",
    "print(is_sorted([4, 3, 2, 1]))\n"
   ]
  }
 ],
 "metadata": {
  "kernelspec": {
   "display_name": "Python 3 (ipykernel)",
   "language": "python",
   "name": "python3"
  },
  "language_info": {
   "codemirror_mode": {
    "name": "ipython",
    "version": 3
   },
   "file_extension": ".py",
   "mimetype": "text/x-python",
   "name": "python",
   "nbconvert_exporter": "python",
   "pygments_lexer": "ipython3",
   "version": "3.12.7"
  }
 },
 "nbformat": 4,
 "nbformat_minor": 5
}
